{
 "cells": [
  {
   "attachments": {},
   "cell_type": "markdown",
   "metadata": {},
   "source": [
    "# WELCOME AND INTRODUCTIONS\n"
   ]
  },
  {
   "attachments": {},
   "cell_type": "markdown",
   "metadata": {},
   "source": [
    "##### **Strengths of Python**\n",
    "1. Smaller code length,\n",
    "2. More friendly to beginners,\n",
    "3. Extensives libraries (packages),\n",
    "4. Best for Data Science alongside **R**."
   ]
  },
  {
   "cell_type": "code",
   "execution_count": null,
   "metadata": {},
   "outputs": [
    {
     "name": "stdout",
     "output_type": "stream",
     "text": [
      "Hello, world!\n"
     ]
    }
   ],
   "source": [
    "if __name__ == \"__main__\":\n",
    "    print('Hello, world!')"
   ]
  },
  {
   "attachments": {},
   "cell_type": "markdown",
   "metadata": {},
   "source": [
    "1. <span style = \"color: yellow\"> **print** </span> is a keyword predifined in python library  for **output**.\n",
    "2. <span style = \"color: yellow\"> **()** </span> is indicating you are going to call a function.\n",
    "3. <span  style = \"color: #50C878\">**'Hello, world!'** </span> is the <span style = \"color: red\">**message**</span> you tell the function to print."
   ]
  },
  {
   "cell_type": "code",
   "execution_count": null,
   "metadata": {},
   "outputs": [
    {
     "name": "stdout",
     "output_type": "stream",
     "text": [
      "Hello, Razeen.\n"
     ]
    }
   ],
   "source": [
    "if __name__ == \"__main__\":\n",
    "    print('Hello, Razeen.')"
   ]
  },
  {
   "attachments": {},
   "cell_type": "markdown",
   "metadata": {},
   "source": [
    "<span style = \"color: #7FFFD4\">***Note:***</span> In python community <span style = \"color: red\">**'**</span> is used more often than <span style = \"color: red\">**\"**</span>.  "
   ]
  },
  {
   "cell_type": "code",
   "execution_count": null,
   "metadata": {},
   "outputs": [
    {
     "name": "stdout",
     "output_type": "stream",
     "text": [
      "I'm a student at the University of Colorado Boulder.\n"
     ]
    }
   ],
   "source": [
    "if __name__ == \"__main__\":\n",
    "    print(\"I'm a student at the University of Colorado Boulder.\")"
   ]
  },
  {
   "cell_type": "code",
   "execution_count": null,
   "metadata": {},
   "outputs": [
    {
     "name": "stdout",
     "output_type": "stream",
     "text": [
      "I'm doing fine.\n"
     ]
    }
   ],
   "source": [
    "if __name__ ==  \"__main__\":\n",
    "    print('I\\'m doing fine.')"
   ]
  },
  {
   "attachments": {},
   "cell_type": "markdown",
   "metadata": {},
   "source": [
    "<span style = \"color: #7FFFD4\">***Note:***</span> the <span style = \"color: red\"> **' \\ '** </span> explicitly says that <span style = \"color: red\">**'**</span> isn't a part of the syntax but is instead part of the message. It's also referred to as an <span style = \"color: #7FFFD4\">**escape code**</span>."
   ]
  },
  {
   "cell_type": "code",
   "execution_count": null,
   "metadata": {},
   "outputs": [
    {
     "name": "stdout",
     "output_type": "stream",
     "text": [
      "This is a \n",
      "new line.\n"
     ]
    }
   ],
   "source": [
    "if __name__ == \"__main__\":\n",
    "    print('This is a \\nnew line.')"
   ]
  },
  {
   "attachments": {},
   "cell_type": "markdown",
   "metadata": {},
   "source": [
    "1. <span style = \"color: #7FFFD4\">**\\t**</span> - *Inserts a **tab**.*\n",
    "2. <span style = \"color: #7FFFD4\">**\\\\**</span> - *Inserts **\\**.*\n",
    "3. <span style = \"color: #7FFFD4\">**\\\\\"**</span> - *Inserts a **\"**.*\n",
    "4. <span style = \"color: #7FFFD4\">**'''**</span> - *Used for multiple lines, commentaries or documentation.*\n"
   ]
  },
  {
   "cell_type": "code",
   "execution_count": 3,
   "metadata": {},
   "outputs": [
    {
     "name": "stdout",
     "output_type": "stream",
     "text": [
      "\n",
      "    This is the\n",
      "    second coming of\n",
      "    the gluttony.\n"
     ]
    }
   ],
   "source": [
    "if __name__ == \"__main__\":\n",
    "    print('''\n",
    "    This is the\n",
    "    second coming of\n",
    "    the gluttony.''')"
   ]
  },
  {
   "attachments": {},
   "cell_type": "markdown",
   "metadata": {},
   "source": [
    "### **Python Input**"
   ]
  },
  {
   "cell_type": "code",
   "execution_count": 9,
   "metadata": {},
   "outputs": [
    {
     "name": "stdout",
     "output_type": "stream",
     "text": [
      "Razeen\n"
     ]
    }
   ],
   "source": [
    "if __name__ == \"__main__\":\n",
    "    print(input('What is your name? '))"
   ]
  },
  {
   "attachments": {},
   "cell_type": "markdown",
   "metadata": {},
   "source": [
    "1. **\"input\"** is a keyword predefined by Python library for *input*.\n",
    "2. **()** is indicating you're going to call a **function**. "
   ]
  },
  {
   "cell_type": "code",
   "execution_count": 10,
   "metadata": {},
   "outputs": [
    {
     "name": "stdout",
     "output_type": "stream",
     "text": [
      "Hello, Razeen\n"
     ]
    }
   ],
   "source": [
    "if __name__ == \"__main__\":\n",
    "    print('Hello,',input('What is your name? '))"
   ]
  },
  {
   "cell_type": "code",
   "execution_count": null,
   "metadata": {},
   "outputs": [],
   "source": []
  }
 ],
 "metadata": {
  "kernelspec": {
   "display_name": "python-basic",
   "language": "python",
   "name": "python3"
  },
  "language_info": {
   "codemirror_mode": {
    "name": "ipython",
    "version": 3
   },
   "file_extension": ".py",
   "mimetype": "text/x-python",
   "name": "python",
   "nbconvert_exporter": "python",
   "pygments_lexer": "ipython3",
   "version": "3.10.11"
  },
  "orig_nbformat": 4
 },
 "nbformat": 4,
 "nbformat_minor": 2
}
