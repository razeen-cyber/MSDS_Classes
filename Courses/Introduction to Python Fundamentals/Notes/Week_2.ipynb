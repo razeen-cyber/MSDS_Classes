{
 "cells": [
  {
   "attachments": {},
   "cell_type": "markdown",
   "metadata": {},
   "source": [
    "# **IDENTIFIERS OF VARIABLES**"
   ]
  },
  {
   "attachments": {},
   "cell_type": "markdown",
   "metadata": {},
   "source": [
    "**NOTE:** \n",
    "1. Identifiers must begin with a letter or the underscore.\n",
    "2. Identifiers are case sensitive\n",
    "3. Identifiers can't be the reserved keywords like \"print, input\".\n",
    "4. Identifiers may not begin with digits\n"
   ]
  },
  {
   "attachments": {},
   "cell_type": "markdown",
   "metadata": {},
   "source": [
    "#### **Naming Conventions**\n"
   ]
  },
  {
   "attachments": {},
   "cell_type": "markdown",
   "metadata": {},
   "source": [
    "1. Naming variables is not just for *you* but for a future version of you or your colleagues who will be responsible for debugging.\n",
    "2. Follow naming convention for readability.\n",
    "3. Name a variable with lower case letters.\n",
    "4. Link multiple words combination variable with **'_'** or capitalize 1st letter of second word."
   ]
  },
  {
   "cell_type": "code",
   "execution_count": 1,
   "metadata": {},
   "outputs": [
    {
     "data": {
      "text/plain": [
       "str"
      ]
     },
     "execution_count": 1,
     "metadata": {},
     "output_type": "execute_result"
    }
   ],
   "source": [
    "message = \"Hello World\"\n",
    "type(message)"
   ]
  },
  {
   "attachments": {},
   "cell_type": "markdown",
   "metadata": {},
   "source": [
    "**NOTE:** Python is a **dynamic-type** programming language i.e a variable that has been assigned to one type can be reassigned to another type."
   ]
  },
  {
   "attachments": {},
   "cell_type": "markdown",
   "metadata": {},
   "source": [
    "### **Arithmetic Operators Precedence**\n",
    "\n",
    "1. ()\n",
    "2. **\n",
    "3. *, /, //, %\n",
    "4. +, -"
   ]
  },
  {
   "attachments": {},
   "cell_type": "markdown",
   "metadata": {},
   "source": []
  }
 ],
 "metadata": {
  "kernelspec": {
   "display_name": "python-basic",
   "language": "python",
   "name": "python3"
  },
  "language_info": {
   "codemirror_mode": {
    "name": "ipython",
    "version": 3
   },
   "file_extension": ".py",
   "mimetype": "text/x-python",
   "name": "python",
   "nbconvert_exporter": "python",
   "pygments_lexer": "ipython3",
   "version": "3.10.11"
  },
  "orig_nbformat": 4
 },
 "nbformat": 4,
 "nbformat_minor": 2
}
